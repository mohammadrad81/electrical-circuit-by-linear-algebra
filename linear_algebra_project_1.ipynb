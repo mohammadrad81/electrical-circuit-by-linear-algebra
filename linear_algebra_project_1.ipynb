{
 "cells": [
  {
   "cell_type": "markdown",
   "id": "7101d3d8-889e-45bb-92ea-9e763f275fdc",
   "metadata": {},
   "source": [
    "<img src=\"amirkabir-uni-logo.jpg\" style=\"margin-left:auto; margin-right:auto\"/>"
   ]
  },
  {
   "attachments": {},
   "cell_type": "markdown",
   "id": "b1f776a6-40aa-46ce-b7ce-6223f291794c",
   "metadata": {},
   "source": [
    "<img src=\"ce-logo.png\" style=\"margin-left:auto; margin-right:auto\"/>"
   ]
  },
  {
   "cell_type": "markdown",
   "id": "9a07f803-0a8f-464f-ab05-42de4900f7ce",
   "metadata": {},
   "source": [
    "<div style=\"font-size: 30px\"> <center> Linear Algebra </center></div>\n",
    "<center> fall 2023 </center>\n",
    "<center> Instructor: </center>\n",
    "<center> Dr.Ehsan Nazerfard </center>\n",
    "<center> TAs: </center>\n",
    "<center> Sara Rouhani </center>\n",
    "<center> Amir Hossein Poulad </center>\n",
    "<center> Mohammad Heydari Rad </center>\n",
    "<center> Asal Delkhosh </center>\n",
    "<center> Mohammad Hossein Aref </center>\n",
    "<center> Amir Mohammad Jafari </center>\n",
    "<center> Samin Mahdi Pour </center>\n",
    "<center> Mohammad Eshrat Abadi </center>"
   ]
  },
  {
   "cell_type": "markdown",
   "id": "2cf8e075-45c6-49bd-9250-999ad6f9628c",
   "metadata": {},
   "source": [
    "#### <div style=\"text-align: center; color: #888888; font-size: 30px\">پروژه اول درس جبر خطی کاربردی</div>\n",
    "#### <div style=\"text-align: center; color: #888888\">محاسبه جریان گذرنده از مدار های الکتریکی</div>"
   ]
  },
  {
   "cell_type": "markdown",
   "id": "68b31e01-1cb8-4454-8d98-7f75e2f94125",
   "metadata": {},
   "source": [
    "<div style=\"text-align: right\">\n",
    "در این پروژه قصد داریم به وسیله جبر خطی و قوانینی که در درس مدار های الکتریکی یاد گرفته ایم، جریان گذرنده از سیم های مدار زیر را محاسبه کنیم\n",
    "<br/><br/>\n",
    "تصویر زیر را مشاهده میکنید\n",
    "<br/>\n",
    "این تصویر نشان دهنده بخشی از یک مدار است، جهت جریان هر سیم با یک پیکان روی آن مشخص شده و برای بعضی از آن ها میزان جریان نیز به میلی آمپر نوشته شده است\n",
    "<br/>\n",
    "</div>"
   ]
  },
  {
   "cell_type": "markdown",
   "id": "cc251be7-19d9-4281-8877-154ee839384b",
   "metadata": {},
   "source": [
    "<img src=\"flow.png\" style=\"margin-left:auto; margin-right:auto\"/>"
   ]
  },
  {
   "cell_type": "markdown",
   "id": "b4ff437d-cf4f-413c-b93a-5cb245ecdede",
   "metadata": {},
   "source": [
    "<div style=\"text-align: right\">\n",
    "هدف ما این است که جریان های مجهول این بخش از مدار را پیدا کنیم\n",
    "</div>"
   ]
  },
  {
   "cell_type": "markdown",
   "id": "ccad1cc8-9c18-4328-83ec-625568968d62",
   "metadata": {},
   "source": [
    "<div style=\"text-align: right\">\n",
    "از درس مدار های الکتریکی میدانیم که مجموع جریان های ورودی به هر گره مدار صفر است\n",
    "<br/>\n",
    "گره های مدار همان نقاط زیر هستند:\n",
    "<br/>\n",
    "A, B, C, D\n",
    "</div>"
   ]
  },
  {
   "cell_type": "markdown",
   "id": "794e33d9-5cd7-483c-9681-31537d1649b0",
   "metadata": {},
   "source": [
    "<div style=\"text-align: right\">\n",
    "برای گره های نام برده شده این قانون را اعمال میکنیم\n",
    "</div>"
   ]
  },
  {
   "cell_type": "markdown",
   "id": "26164329-4524-4665-825d-666265ef4d31",
   "metadata": {},
   "source": [
    "<div>\n",
    "A:\n",
    "<br/>\n",
    "x1 + x2 = 800\n",
    "<br/>\n",
    "B:\n",
    "<br/>\n",
    "x2 - x3 + x4 = 300\n",
    "<br/>\n",
    "C:\n",
    "<br/>\n",
    "x4 + x5 = 500\n",
    "<br/>\n",
    "D:\n",
    "<br/>\n",
    "x1 + x5 = 600\n",
    "</div>"
   ]
  },
  {
   "cell_type": "markdown",
   "id": "4e119c91-2f8d-4ce4-94e3-d189ff8c779c",
   "metadata": {},
   "source": [
    "<div style=\"text-align: right\">\n",
    "ماتریس افزوده معادلات به دست آمده را مینویسیم\n",
    "</div>"
   ]
  },
  {
   "cell_type": "markdown",
   "id": "df99729e-c80b-4f34-b51f-4ce6dfb2d9ed",
   "metadata": {},
   "source": [
    "1, 1, 0, 0, 0, 800\n",
    "<br/>\n",
    "0, 1, -1, 1, 0, 300\n",
    "<br/>\n",
    "0, 0, 0, 1, 1, 500\n",
    "<br/>\n",
    "1, 0, 0, 0, 1, 600"
   ]
  },
  {
   "cell_type": "markdown",
   "id": "02340371-82ef-4ed8-b235-3934341a3566",
   "metadata": {},
   "source": [
    "<div style=\"text-align: right\">\n",
    "برای حل این مسئله، میخواهیم تابعی بنویسیم که یک ماتریس افزوده میگیرد و به فرم ماتریس نردبانی کاهش یافته در می آورد\n",
    "</div>"
   ]
  },
  {
   "cell_type": "markdown",
   "id": "5563627a-b46f-4922-a48d-926c24835a3c",
   "metadata": {},
   "source": [
    "<div style=\"text-align: right\">\n",
    "در درس جبر خطی دیده ایم که برای تبدیل یک ماتریس به فرم نردبانی کاهش یافته آن باید مراحل زیر را انجام دهیم\n",
    "<br/>\n",
    "قدم اول\n",
    "<br/>\n",
    "با جا به جایی سطر ها، کاری میکنیم که چپ ترین مدخل غیر صفر هر سطری، در زیر یا سمت راست چپ ترین مدخل غیر صفر هر سطر بالایی اش قرار بگیرد\n",
    "<br/>\n",
    "قدم دوم\n",
    "<br/>\n",
    "چپ ترین مدخل غیر صفر بالا ترین سطری که برایش شاخص در نظر نگرفته ایم را به عنوان شاخص در نظر میگیریم\n",
    "<br/>\n",
    "تمام سطر هایی که زیر این شاخص مقداری غیر صفر دارند را منهای ضریبی از سطر اول میکنیم که برابر حاصل تقسیم شاخص بر چپ ترین مدخل غیر صفر آن سطر است\n",
    "<br/>\n",
    "و اگر فرم بالا مثلثی به هم خورد به قدم اول میرویم\n",
    "<br/>\n",
    "قدم سوم\n",
    "<br/>\n",
    "تمامی سطر های دارای شاخص را بر مقدار شاخصشان تقسیم میکنیم\n",
    "<br/>\n",
    "قدم چهارم\n",
    "<br/>\n",
    "هر سطری که بالا سر شاخصی مدخلی غیر صفر دارد را منهای حاصل ضرب آن مدخل در سطر آن شاخص میکنیم تا مدخل های بالای هر شاخص صفر بشود\n",
    "</div>"
   ]
  },
  {
   "cell_type": "markdown",
   "id": "cc845f4b-c97e-4ac7-b422-86c536d42b04",
   "metadata": {},
   "source": [
    "<div style=\"text-align: right; color: red\">\n",
    "توجه: شما باید کدی بنویسید که هر ماتریس افزوده ای را به فرم نردبانی کاهش یافته ببرد، نه صرفا ماتریس افزوده این مدار الکتریکی، و باید بتوان ماتریس افزوده را به آن ورودی داد و خروجی را مشاهده کرد\n",
    "</div>"
   ]
  },
  {
   "cell_type": "markdown",
   "id": "f6a52e3c-e867-43ab-9590-a8775064add5",
   "metadata": {},
   "source": [
    "<div style=\"text-align: right; color: red\">\n",
    "توجه: اصراری بر استفاده از کد های  زیر نیست، میتوانید آنطور که میخواهید آن ها را تغییر دهید، توابع جدید اضافه کنید یا حذفشان کنید و کد های خود را بنویسید، صرفا باید در نهایت تابعی داشته باشید که بتوان به آن ماتریس افزوده داد و آن به فرم ماتریس نردبانی کاهش یافته در بیاورد و نمایش دهد\n",
    "</div>"
   ]
  },
  {
   "cell_type": "markdown",
   "id": "3c6d8d8d-5239-494c-ad1a-776800f152c8",
   "metadata": {},
   "source": [
    "<div style=\"text-align: right; color: red\">\n",
    "توجه: لطفا کد ها را تا حد امکان کامنت گذاری کنید و توضیح دهید\n",
    "</div>"
   ]
  },
  {
   "cell_type": "markdown",
   "id": "b77ab49f-8d77-4468-9abe-f34bed7b8299",
   "metadata": {},
   "source": [
    "<div style=\"text-align: right; color: green\">\n",
    "درصورت هرگونه اشکال با تدریسیاران در ارتباط باشید\n",
    "</div>"
   ]
  },
  {
   "cell_type": "code",
   "execution_count": 10,
   "id": "420d1334-d334-406c-a2f7-446eccd6a0c8",
   "metadata": {},
   "outputs": [
    {
     "name": "stdout",
     "output_type": "stream",
     "text": [
      "/usr/bin/zsh: /home/mohammad/miniconda3/lib/libtinfo.so.6: no version information available (required by /usr/bin/zsh)\n",
      "Looking in indexes: https://pypi.org/simple, https://pypi.ngc.nvidia.com\n",
      "Requirement already satisfied: numpy in ./venv/lib/python3.11/site-packages (1.26.0)\n"
     ]
    }
   ],
   "source": [
    "! pip install numpy"
   ]
  },
  {
   "cell_type": "code",
   "execution_count": 11,
   "id": "107f9bc8-934f-47da-96a9-340bc2ae3e35",
   "metadata": {},
   "outputs": [],
   "source": [
    "import numpy as np"
   ]
  },
  {
   "cell_type": "markdown",
   "id": "5d5b4208-d925-4307-8a66-1c40d6c903b3",
   "metadata": {},
   "source": [
    "<div style=\"text-align: right\">\n",
    "برای این کار در ابتدا باید توابعی را پیاده سازی کنیم که عملیات کاهش سطری را انجام میدهند\n",
    "</div>"
   ]
  },
  {
   "cell_type": "markdown",
   "id": "e6fe59c3-7aa8-4a1b-91ef-d675d676aad4",
   "metadata": {},
   "source": [
    "<div style=\"text-align: right\">\n",
    "جا به جایی دو سطر\n",
    "<br/>\n",
    "این تابع یک ماتریس و اندیس دو سطر را میگیرد و آن دو سطر را در آن ماتریس جا به جا میکند\n",
    "</div>"
   ]
  },
  {
   "cell_type": "code",
   "execution_count": 12,
   "id": "9b40bb9d-dca8-4cbf-9c8e-f2f140ebb5f8",
   "metadata": {},
   "outputs": [],
   "source": [
    "def interchange(matrix, first_row_index, second_row_index):\n",
    "    pass"
   ]
  },
  {
   "cell_type": "markdown",
   "id": "fd4d9b78-7445-4e3a-8482-ccfd064d2c36",
   "metadata": {},
   "source": [
    "<div style=\"text-align: right\">\n",
    "ضرب سطر در یک عدد\n",
    "<br/>\n",
    "این تابع یک ماتریس و اندیس سطر و یک عدد میگیرد و تمام درایه های آن سطر را در آن عدد ضرب میکند\n",
    "</div>"
   ]
  },
  {
   "cell_type": "code",
   "execution_count": 13,
   "id": "4ca00743-3ce8-434b-b285-80ee3ef331b1",
   "metadata": {},
   "outputs": [],
   "source": [
    "def scale(matrix, row_index, scalar):\n",
    "    pass"
   ]
  },
  {
   "cell_type": "markdown",
   "id": "cc31c066-ffa3-4a60-a3ee-872ccbecd042",
   "metadata": {},
   "source": [
    "<div style=\"text-align: right\">\n",
    "جمع یک سطر با ضریبی اس سطر دیگر\n",
    "<br/>\n",
    "این تابع یک ماتریس و اندیس دو سطر و یک عدد را میگیرد و حاصل ضرب دومی در عدد را با سطر اول جمع میکند و به جای سطر اول میگذارد\n",
    "</div>"
   ]
  },
  {
   "cell_type": "code",
   "execution_count": 9,
   "id": "e719b858-b388-4b27-a6e8-bd57cef28049",
   "metadata": {},
   "outputs": [],
   "source": [
    "def replace(matrix, first_row_index, second_row_index, scalar):\n",
    "    pass"
   ]
  },
  {
   "cell_type": "markdown",
   "id": "94c4b016-0f3b-44b8-a72d-b3671d0021fe",
   "metadata": {},
   "source": [
    "<div style=\"text-align: right\">\n",
    "قدم اول\n",
    "</div>"
   ]
  },
  {
   "cell_type": "code",
   "execution_count": 24,
   "id": "413279c1-31c3-4eca-83e4-88c7e5f56823",
   "metadata": {},
   "outputs": [],
   "source": [
    "def upper_triangle_form(matrix):\n",
    "    pass"
   ]
  },
  {
   "cell_type": "markdown",
   "id": "d3ce1764-96f4-4621-a274-65dd5ec4e0a8",
   "metadata": {},
   "source": [
    "<div style=\"text-align: right\">\n",
    "قدم دوم\n",
    "</div>"
   ]
  },
  {
   "cell_type": "code",
   "execution_count": 17,
   "id": "ffe8d457-666f-4aea-955e-71a98ed9fda3",
   "metadata": {},
   "outputs": [],
   "source": [
    "def find_pivot(matrix, uppest_pivotless_row_index):\n",
    "    pass"
   ]
  },
  {
   "cell_type": "code",
   "execution_count": 21,
   "id": "5b79ce64-d7d8-404e-8266-8c43d220ec29",
   "metadata": {},
   "outputs": [],
   "source": [
    "def subtract_scaled_pivot_row_from_rows_below(matrix, pivot_row, pivot_column):\n",
    "    pass"
   ]
  },
  {
   "cell_type": "markdown",
   "id": "c5f1600c-7907-441d-9f79-dcc375df918f",
   "metadata": {},
   "source": [
    "<div style=\"text-align: right\">\n",
    "قدم سوم\n",
    "</div>"
   ]
  },
  {
   "cell_type": "code",
   "execution_count": 20,
   "id": "6ada3980-83a3-4746-9c3d-c653c4d4a75e",
   "metadata": {},
   "outputs": [],
   "source": [
    "def divide_rows_by_their_pivot_enties(matrix):\n",
    "    pass"
   ]
  },
  {
   "cell_type": "markdown",
   "id": "1143ed9b-d96c-4cb9-bfc1-bcd34909cf52",
   "metadata": {},
   "source": [
    "<div style=\"text-align: right\">\n",
    "قدم چهارم\n",
    "</div>"
   ]
  },
  {
   "cell_type": "code",
   "execution_count": 22,
   "id": "573f8b72-8956-4ba0-9b74-903ba576e940",
   "metadata": {},
   "outputs": [],
   "source": [
    "def subtract_scaled_pivot_row_from_rows_above(matrix, pivot_row, pivot_column):\n",
    "    pass"
   ]
  },
  {
   "cell_type": "markdown",
   "id": "ad8ca9c3-0ba1-4516-928c-ee3b33f2a06d",
   "metadata": {},
   "source": [
    "<div style=\"text-align: right\">\n",
    "تابع نهایی: این تابع ماتریس افزوده را میگیرد و به فرم نردبانی کاهش یافته در می آورد و خروجی را برمیگرداند\n",
    "</div>"
   ]
  },
  {
   "cell_type": "code",
   "execution_count": 26,
   "id": "1667eddd-cf9f-4717-9292-b52dd5e71bb7",
   "metadata": {},
   "outputs": [],
   "source": [
    "def reduced_echelon_form(augmented_matrix):\n",
    "    pass"
   ]
  },
  {
   "cell_type": "markdown",
   "id": "2b55bee9-f70d-43e6-bc66-6ab72cd985d6",
   "metadata": {},
   "source": [
    "<div style=\"text-align: right\">\n",
    "تست تابع با ماتریس افزوده توصیف شده\n",
    "</div>"
   ]
  },
  {
   "cell_type": "code",
   "execution_count": 29,
   "id": "18903197-1934-40cc-89af-710f51c1dbac",
   "metadata": {},
   "outputs": [
    {
     "name": "stdout",
     "output_type": "stream",
     "text": [
      "None\n"
     ]
    }
   ],
   "source": [
    "augmented_matrix = np.array([\n",
    "    [1, 1, 0, 0, 0, 800],\n",
    "    [0, 1, -1, 1, 0, 300],\n",
    "    [0, 0, 0, 1, 1, 500],\n",
    "    [1, 0, 0, 0, 1, 600]\n",
    "])\n",
    "print(reduced_echelon_form(augmented_matrix))"
   ]
  }
 ],
 "metadata": {
  "kernelspec": {
   "display_name": "Python 3 (ipykernel)",
   "language": "python",
   "name": "python3"
  },
  "language_info": {
   "codemirror_mode": {
    "name": "ipython",
    "version": 3
   },
   "file_extension": ".py",
   "mimetype": "text/x-python",
   "name": "python",
   "nbconvert_exporter": "python",
   "pygments_lexer": "ipython3",
   "version": "3.11.4"
  }
 },
 "nbformat": 4,
 "nbformat_minor": 5
}
